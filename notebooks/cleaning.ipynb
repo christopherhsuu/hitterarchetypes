{
 "cells": [
  {
   "cell_type": "code",
   "execution_count": 1,
   "id": "7924d955",
   "metadata": {},
   "outputs": [],
   "source": [
    "import pandas as pd\n",
    "import numpy as np\n",
    "import pybaseball\n",
    "from pybaseball import statcast_pitcher\n",
    "from pybaseball import statcast_batter\n",
    "from pybaseball import playerid_lookup\n"
   ]
  },
  {
   "cell_type": "code",
   "execution_count": null,
   "id": "dab288a3",
   "metadata": {},
   "outputs": [],
   "source": []
  },
  {
   "cell_type": "code",
   "execution_count": null,
   "id": "543cb8e1",
   "metadata": {},
   "outputs": [],
   "source": []
  }
 ],
 "metadata": {
  "kernelspec": {
   "display_name": "base",
   "language": "python",
   "name": "python3"
  },
  "language_info": {
   "codemirror_mode": {
    "name": "ipython",
    "version": 3
   },
   "file_extension": ".py",
   "mimetype": "text/x-python",
   "name": "python",
   "nbconvert_exporter": "python",
   "pygments_lexer": "ipython3",
   "version": "3.13.5"
  }
 },
 "nbformat": 4,
 "nbformat_minor": 5
}
